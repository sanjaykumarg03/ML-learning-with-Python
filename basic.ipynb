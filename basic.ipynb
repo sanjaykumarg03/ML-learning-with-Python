{
  "nbformat": 4,
  "nbformat_minor": 0,
  "metadata": {
    "colab": {
      "name": "basic.ipynb",
      "provenance": []
    },
    "kernelspec": {
      "name": "python3",
      "display_name": "Python 3"
    },
    "language_info": {
      "name": "python"
    }
  },
  "cells": [
    {
      "cell_type": "code",
      "source": [
        "a=input(\"Enter a string : \")\n",
        "print(a)\n",
        "b=int(input(\"Enter a integer : \"))\n",
        "print(b)"
      ],
      "metadata": {
        "colab": {
          "base_uri": "https://localhost:8080/"
        },
        "id": "2BKoCo9fszks",
        "outputId": "77bfd16d-070f-4885-d015-9e9c2704651a"
      },
      "execution_count": null,
      "outputs": [
        {
          "output_type": "stream",
          "name": "stdout",
          "text": [
            "Enter a string : wow\n",
            "wow\n",
            "Enter a integer : 897\n",
            "897\n"
          ]
        }
      ]
    },
    {
      "cell_type": "code",
      "source": [
        "#type of function\n",
        "x=999\n",
        "print(type(x))\n",
        "y=999.09\n",
        "print(type(y))\n",
        "z=True\n",
        "print(type(z))\n",
        "xx=1+4j\n",
        "print(type(xx))"
      ],
      "metadata": {
        "colab": {
          "base_uri": "https://localhost:8080/"
        },
        "id": "e-LBF9lCszzg",
        "outputId": "b5b3ea28-c0dd-4409-dab3-20941f9e5dcd"
      },
      "execution_count": null,
      "outputs": [
        {
          "output_type": "stream",
          "name": "stdout",
          "text": [
            "<class 'int'>\n",
            "<class 'float'>\n",
            "<class 'bool'>\n",
            "<class 'complex'>\n"
          ]
        }
      ]
    },
    {
      "cell_type": "code",
      "source": [
        "lol1=\" hello lol\"\n",
        "lol2='how are u'\n",
        "print(lol1[0:6])\n",
        "print(lol2[3])\n",
        "print(lol1*4)\n",
        "print(lol1+\" \"+lol2)\n",
        "\n"
      ],
      "metadata": {
        "colab": {
          "base_uri": "https://localhost:8080/"
        },
        "id": "I-j_phnp177t",
        "outputId": "0448b69e-55be-49d3-c6e4-64fd0b454f44"
      },
      "execution_count": null,
      "outputs": [
        {
          "output_type": "stream",
          "name": "stdout",
          "text": [
            " hello\n",
            " \n",
            " hello lol hello lol hello lol hello lol\n",
            " hello lol how are u\n"
          ]
        }
      ]
    },
    {
      "cell_type": "code",
      "source": [
        "list_1=[\"Sandhiya\",\"Saniya\",21,4324.243,\"gowtham\"]\n",
        "list_1.append(\"yokesh\")\n",
        "print(list_1)"
      ],
      "metadata": {
        "colab": {
          "base_uri": "https://localhost:8080/"
        },
        "id": "6gFKJAbm5M8T",
        "outputId": "ee81e142-0a29-41fb-e193-d0bb251e9e02"
      },
      "execution_count": null,
      "outputs": [
        {
          "output_type": "stream",
          "name": "stdout",
          "text": [
            "['Sandhiya', 'Saniya', 21, 4324.243, 'gowtham', 'yokesh']\n"
          ]
        }
      ]
    },
    {
      "cell_type": "code",
      "source": [
        "lol=(\"Ohayo\",\"Gosaimasu\",\"hai\")\n",
        "print(type(lol))\n",
        "print(lol[0:1])\n",
        "print(lol[0:2])"
      ],
      "metadata": {
        "colab": {
          "base_uri": "https://localhost:8080/"
        },
        "id": "NHCxcwYQ7OJr",
        "outputId": "0abe8d3d-7db2-4774-c785-89379c4d3061"
      },
      "execution_count": null,
      "outputs": [
        {
          "output_type": "stream",
          "name": "stdout",
          "text": [
            "<class 'tuple'>\n",
            "('Ohayo',)\n",
            "('Ohayo', 'Gosaimasu')\n"
          ]
        }
      ]
    },
    {
      "cell_type": "code",
      "source": [
        "list_1=[1,2,3,4,5]\n",
        "list_2=[\"Vicky\",\"Yokesh\",\"Naren\",\"gowtham\",\"Juu\"]\n",
        "data=list(zip(list_1,list_2))\n",
        "print(data)"
      ],
      "metadata": {
        "colab": {
          "base_uri": "https://localhost:8080/"
        },
        "id": "qCgX2BL08n-w",
        "outputId": "806ffc66-e949-4e63-9df6-e7cfae40e658"
      },
      "execution_count": null,
      "outputs": [
        {
          "output_type": "stream",
          "name": "stdout",
          "text": [
            "[(1, 'Vicky'), (2, 'Yokesh'), (3, 'Naren'), (4, 'gowtham'), (5, 'Juu')]\n"
          ]
        }
      ]
    },
    {
      "cell_type": "code",
      "source": [
        "dic={1:'Danni',2:\"Johnny\",3:\"Bunny\",4:\"Lolly\"}\n",
        "print(dic)\n",
        "print(dic[1])\n",
        "print(dic[3])\n",
        "print(dic.keys())\n",
        "print(dic.values())\n",
        "dic\n"
      ],
      "metadata": {
        "colab": {
          "base_uri": "https://localhost:8080/"
        },
        "id": "hgSYdWeFJh_t",
        "outputId": "b3aeb00b-c138-45e6-94af-7702766d0d3d"
      },
      "execution_count": null,
      "outputs": [
        {
          "output_type": "stream",
          "name": "stdout",
          "text": [
            "{1: 'Danni', 2: 'Johnny', 3: 'Bunny', 4: 'Lolly'}\n",
            "Danni\n",
            "Bunny\n",
            "dict_keys([1, 2, 3, 4])\n",
            "dict_values(['Danni', 'Johnny', 'Bunny', 'Lolly'])\n"
          ]
        },
        {
          "output_type": "execute_result",
          "data": {
            "text/plain": [
              "{1: 'Danni', 2: 'Johnny', 3: 'Bunny', 4: 'Lolly'}"
            ]
          },
          "metadata": {},
          "execution_count": 32
        }
      ]
    },
    {
      "cell_type": "code",
      "source": [
        "set_1=set()\n",
        "set_2={'johnny',2,3,'Pyhton','Jamee',2,3}\n",
        "print(set2)\n"
      ],
      "metadata": {
        "id": "dcXkOt6GNm3h"
      },
      "execution_count": null,
      "outputs": []
    }
  ]
}